{
 "cells": [
  {
   "cell_type": "raw",
   "id": "48a72f67",
   "metadata": {},
   "source": [
    "# Chapter 1\n",
    "\n",
    "## Learning a Rule for Recognizing Cars with Type I Feedback"
   ]
  },
  {
   "cell_type": "code",
   "execution_count": 1,
   "id": "9ef8d66b",
   "metadata": {},
   "outputs": [],
   "source": [
    "from random import random\n",
    "from random import choice"
   ]
  },
  {
   "cell_type": "code",
   "execution_count": 2,
   "id": "83eb4751",
   "metadata": {},
   "outputs": [],
   "source": [
    "memorize_value = 0.1\n",
    "forget_value = 0.9"
   ]
  },
  {
   "cell_type": "code",
   "execution_count": 3,
   "id": "f06b5210",
   "metadata": {},
   "outputs": [],
   "source": [
    "memory = {'Four Wheels':5, 'NOT Four Wheels':5, 'Transports People':5, 'NOT Transports People':5, 'Wings':5, 'NOT Wings':5, 'Blue':5, 'NOT Blue':5, 'Yellow':5, 'NOT Yellow':5}"
   ]
  },
  {
   "cell_type": "code",
   "execution_count": 4,
   "id": "9bb2d1c8",
   "metadata": {},
   "outputs": [],
   "source": [
    "cars = [\n",
    "    {'Four Wheels':True, 'Transports People':True, 'Wings':False, 'Yellow':False, 'Blue':True},\n",
    "    {'Four Wheels':True, 'Transports People':True, 'Wings':False, 'Yellow':True, 'Blue':False},\n",
    "    {'Four Wheels':True, 'Transports People':True, 'Wings':False, 'Yellow':True, 'Blue':False}\n",
    "]"
   ]
  },
  {
   "cell_type": "code",
   "execution_count": 5,
   "id": "d27ab9d2",
   "metadata": {},
   "outputs": [],
   "source": [
    "def memorize(literal):\n",
    "    if random() <= memorize_value and memory[literal] < 10:\n",
    "        memory[literal] += 1"
   ]
  },
  {
   "cell_type": "code",
   "execution_count": 6,
   "id": "24f204f9",
   "metadata": {},
   "outputs": [],
   "source": [
    "def forget(literal):\n",
    "    if random() <= forget_value and memory[literal] > 1:\n",
    "        memory[literal] -= 1"
   ]
  },
  {
   "cell_type": "code",
   "execution_count": 7,
   "id": "729acf8b",
   "metadata": {},
   "outputs": [],
   "source": [
    "def get_condition():\n",
    "    condition = {}\n",
    "    for literal in memory:\n",
    "        if memory[literal] >= 6:\n",
    "            condition[literal] = 'Included'\n",
    "    return condition"
   ]
  },
  {
   "cell_type": "code",
   "execution_count": 8,
   "id": "22e7c56f",
   "metadata": {},
   "outputs": [],
   "source": [
    "def evaluate_condition(observation, condition):\n",
    "    truth_value_of_condition = True\n",
    "    for feature in observation:\n",
    "        if feature in condition and observation[feature] == False:\n",
    "            truth_value_of_condition = False\n",
    "            break\n",
    "        if 'NOT ' + feature in condition and observation[feature] == True:\n",
    "            truth_value_of_condition = False\n",
    "            break\n",
    "    return truth_value_of_condition"
   ]
  },
  {
   "cell_type": "code",
   "execution_count": 9,
   "id": "5d2d430e",
   "metadata": {},
   "outputs": [],
   "source": [
    "def type_i_feedback(observation):\n",
    "    incremented = {}\n",
    "    if evaluate_condition(observation, get_condition()) == True:\n",
    "        for feature in observation:\n",
    "            if observation[feature] == True:\n",
    "                memorize(feature)\n",
    "                incremented[feature] = True\n",
    "            elif observation[feature] == False:\n",
    "                memorize('NOT ' + feature)\n",
    "                incremented['NOT ' + feature] = True\n",
    "    for feature in observation:\n",
    "        if feature not in incremented:\n",
    "            forget(feature)\n",
    "        if 'NOT ' + feature not in incremented:\n",
    "            forget('NOT ' + feature)"
   ]
  },
  {
   "cell_type": "code",
   "execution_count": 10,
   "id": "b4d1bdcc",
   "metadata": {},
   "outputs": [
    {
     "name": "stdout",
     "output_type": "stream",
     "text": [
      "{'Four Wheels': 10, 'NOT Four Wheels': 1, 'Transports People': 10, 'NOT Transports People': 1, 'Wings': 1, 'NOT Wings': 10, 'Blue': 1, 'NOT Blue': 1, 'Yellow': 1, 'NOT Yellow': 1}\n"
     ]
    }
   ],
   "source": [
    "for i in range(100):\n",
    "    observation_id = choice([0,1,2])\n",
    "    type_i_feedback(cars[observation_id])\n",
    "print(memory)"
   ]
  },
  {
   "cell_type": "code",
   "execution_count": null,
   "id": "01688d3b",
   "metadata": {},
   "outputs": [],
   "source": []
  }
 ],
 "metadata": {
  "kernelspec": {
   "display_name": "Python 3 (ipykernel)",
   "language": "python",
   "name": "python3"
  },
  "language_info": {
   "codemirror_mode": {
    "name": "ipython",
    "version": 3
   },
   "file_extension": ".py",
   "mimetype": "text/x-python",
   "name": "python",
   "nbconvert_exporter": "python",
   "pygments_lexer": "ipython3",
   "version": "3.8.8"
  }
 },
 "nbformat": 4,
 "nbformat_minor": 5
}
