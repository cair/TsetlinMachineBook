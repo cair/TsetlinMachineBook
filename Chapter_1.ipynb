{
 "cells": [
  {
   "cell_type": "markdown",
   "id": "3ec61780",
   "metadata": {},
   "source": [
    "# Chapter 1\n",
    "\n",
    "This Jupyter Notebook implements key parts of Chapter 1 of the book \"An Introduction to Tsetlin Machines\". The complete chapter can be found here: https://www.researchgate.net/publication/354450962_An_Introduction_to_Tsetlin_Machines_Your_First_Tsetlin_Machine."
   ]
  },
  {
   "cell_type": "markdown",
   "id": "732c9b7b",
   "metadata": {},
   "source": [
    "## Boolean Features"
   ]
  },
  {
   "cell_type": "markdown",
   "id": "41041f6c",
   "metadata": {},
   "source": [
    "You first need observations that the Tsetlin machine can learn from. The following dataset contains three objects of type _Car_. They are characterized by five Boolean features: _Four Wheels_, _Transports People_, _Wings_, _Yellow_, and _Blue_. The first object in the dataset, for instance, has _Four Wheels_, _Transports People_, does not have _Wings_, is _Blue_, but not _Yellow_. "
   ]
  },
  {
   "cell_type": "code",
   "execution_count": 1,
   "id": "9bb2d1c8",
   "metadata": {},
   "outputs": [],
   "source": [
    "cars = [\n",
    "    {'Four Wheels':True, 'Transports People':True, 'Wings':False, 'Yellow':False, 'Blue':True},\n",
    "    {'Four Wheels':True, 'Transports People':True, 'Wings':False, 'Yellow':True, 'Blue':False},\n",
    "    {'Four Wheels':True, 'Transports People':True, 'Wings':False, 'Yellow':True, 'Blue':False}\n",
    "]"
   ]
  },
  {
   "cell_type": "markdown",
   "id": "0a6a8aac",
   "metadata": {},
   "source": [
    "## Creating Patterns with AND and NOT\n",
    "\n",
    "The Tsetlin machine learns to recognize different object types by creating _if-then rules_. Each rule has the form: __if__ _condition_ __then__ _class_."
   ]
  },
  {
   "cell_type": "markdown",
   "id": "2a5969ab",
   "metadata": {},
   "source": [
    "The _condition_ is an __and__-expression while the _class_ is a type of object. You can use the method `evaluate_condition()` to evaluate the condition of a rule:"
   ]
  },
  {
   "cell_type": "code",
   "execution_count": 2,
   "id": "22e7c56f",
   "metadata": {},
   "outputs": [],
   "source": [
    "def evaluate_condition(observation, condition):\n",
    "    truth_value_of_condition = True\n",
    "    for feature in observation:\n",
    "        if feature in condition and observation[feature] == False:\n",
    "            truth_value_of_condition = False\n",
    "            break\n",
    "        if 'NOT ' + feature in condition and observation[feature] == True:\n",
    "            truth_value_of_condition = False\n",
    "            break\n",
    "    return truth_value_of_condition"
   ]
  },
  {
   "cell_type": "markdown",
   "id": "dfc47e80",
   "metadata": {},
   "source": [
    "For instance, create the condition"
   ]
  },
  {
   "cell_type": "code",
   "execution_count": 3,
   "id": "cfbba249",
   "metadata": {},
   "outputs": [],
   "source": [
    "example_condition = ['Four Wheels', 'Transports People', 'NOT Wings']"
   ]
  },
  {
   "cell_type": "markdown",
   "id": "7e664f4b",
   "metadata": {},
   "source": [
    "This condition means: _Four Wheels_ __and__ _Transports People_ __and__ __not__ _Wings_. Now, evaluate the condition on the first object in the dataset:"
   ]
  },
  {
   "cell_type": "code",
   "execution_count": 4,
   "id": "ae72ef89",
   "metadata": {
    "scrolled": true
   },
   "outputs": [
    {
     "data": {
      "text/plain": [
       "True"
      ]
     },
     "execution_count": 4,
     "metadata": {},
     "output_type": "execute_result"
    }
   ],
   "source": [
    "evaluate_condition(cars[0], example_condition)"
   ]
  },
  {
   "cell_type": "markdown",
   "id": "8cef3ea8",
   "metadata": {},
   "source": [
    "Since, the first object in the dataset has _Four Wheels_, _Transports People_, and does not have _Wings_, the __and__-expression becomes _True_."
   ]
  },
  {
   "cell_type": "markdown",
   "id": "1718a0a4",
   "metadata": {},
   "source": [
    "## Learning Frequent Patterns with Type I Feedback"
   ]
  },
  {
   "cell_type": "markdown",
   "id": "bc5329fb",
   "metadata": {},
   "source": [
    "### Rule Memory"
   ]
  },
  {
   "cell_type": "markdown",
   "id": "e784bfd2",
   "metadata": {},
   "source": [
    "You are now about to discover how a single if-then rule learns to recognizing frequent _Car_ patterns. To this end, the rule has its own memory for storing literals. The memory simulates memorization and forgetting, visualized in the figure below,"
   ]
  },
  {
   "cell_type": "markdown",
   "id": "95658c05",
   "metadata": {},
   "source": [
    "![Alt text](https://github.com/olegranmo/blob/blob/c5dea3cf340914963c2cdcfe55c9f92ae04d6cec/Tsetlin_Machine_Memory_1_1.png?raw=true)"
   ]
  },
  {
   "cell_type": "markdown",
   "id": "2c4034b1",
   "metadata": {},
   "source": [
    "The y-axis ranges from 1 to 10 and measures how deeply the memory stores each literal:\n",
    "\n",
    "* Values 1 to 5 stand for _Forgotten_. Value 1 means maximally forgotten while value 5 means almost memorized. Literals in this range _do not_ take part in the rule's condition.\n",
    "* Values 6 to 10 mean _Memorized_. Value 6 stands for lightly retained, and value 10 represents maximally memorized. Literals in this range take part in the condition of the rule.\n",
    "\n",
    "You can implement the memory as a class:"
   ]
  },
  {
   "cell_type": "code",
   "execution_count": 5,
   "id": "5957a1f8",
   "metadata": {},
   "outputs": [],
   "source": [
    "class Memory:\n",
    "    def __init__(self, forget_value, memorize_value, memory):\n",
    "        self.memory = memory\n",
    "        self.forget_value = forget_value\n",
    "        self.memorize_value = memorize_value\n",
    "    \n",
    "    def get_memory(self):\n",
    "        return self.memory\n",
    "    \n",
    "    def get_literals(self):\n",
    "        return list(self.memory.keys())\n",
    "    \n",
    "    def get_condition(self):\n",
    "        condition = []\n",
    "        for literal in self.memory:\n",
    "            if self.memory[literal] >= 6:\n",
    "                condition.append(literal)\n",
    "        return condition\n",
    "        \n",
    "    def memorize(self, literal):\n",
    "        if random() <= self.memorize_value and self.memory[literal] < 10:\n",
    "            self.memory[literal] += 1\n",
    "            \n",
    "    def forget(self, literal):\n",
    "        if random() <= self.forget_value and self.memory[literal] > 1:\n",
    "            self.memory[literal] -= 1\n",
    "            \n",
    "    def memorize_always(self, literal):\n",
    "        if  self.memory[literal] < 10:\n",
    "            self.memory[literal] += 1"
   ]
  },
  {
   "cell_type": "markdown",
   "id": "4e0daa78",
   "metadata": {},
   "source": [
    "To create the memory for the car if-then rule, you first set `forget_value`, which decides how quickly the memory forgets. You also set `memorize_value`, determining memorization speed. Finally, you add the literals and their starting memory positions."
   ]
  },
  {
   "cell_type": "code",
   "execution_count": 6,
   "id": "e446ee90",
   "metadata": {},
   "outputs": [],
   "source": [
    "car_rule = Memory(0.9, 0.1, {'Four Wheels':10, 'NOT Four Wheels':2, 'Transports People':9, 'NOT Transports People':3, 'Wings':1, 'NOT Wings':5, 'Yellow':1, 'NOT Yellow':4, 'Blue':6, 'NOT Blue':4})"
   ]
  },
  {
   "cell_type": "markdown",
   "id": "ec822209",
   "metadata": {},
   "source": [
    "The `get_condition()` method extracts the literals in memory position 6 to 10. You can try `get_condition()` on the above example memory."
   ]
  },
  {
   "cell_type": "code",
   "execution_count": 7,
   "id": "2c81c78d",
   "metadata": {
    "scrolled": true
   },
   "outputs": [
    {
     "data": {
      "text/plain": [
       "['Four Wheels', 'Transports People', 'Blue']"
      ]
     },
     "execution_count": 7,
     "metadata": {},
     "output_type": "execute_result"
    }
   ],
   "source": [
    "car_rule.get_condition()"
   ]
  },
  {
   "cell_type": "markdown",
   "id": "521619c8",
   "metadata": {},
   "source": [
    "The condition is _Four Wheels_ __and__ _Transports People_ __and__ _Blue_."
   ]
  },
  {
   "cell_type": "markdown",
   "id": "b2c8c189",
   "metadata": {},
   "source": [
    "### Memorization and Forgetting\n",
    "\n",
    "You memorize a literal by incrementing its position in memory unless already _Maximally Memorized_ in position 10. The memorization thus pushes the literals deeper into the rule's memory. The `memorize()` method implements memorization."
   ]
  },
  {
   "cell_type": "markdown",
   "id": "f0471f76",
   "metadata": {},
   "source": [
    "You forget a literal by decrementing its position in memory unless already Maximally Forgotten in position 1. The `forget()` method implements forgetting."
   ]
  },
  {
   "cell_type": "markdown",
   "id": "86f6c34e",
   "metadata": {},
   "source": [
    "Both `memorize()` and `forget()` are randomized, hence we need a couple of methods from the `random` module:"
   ]
  },
  {
   "cell_type": "code",
   "execution_count": 8,
   "id": "9ef8d66b",
   "metadata": {},
   "outputs": [],
   "source": [
    "from random import random\n",
    "from random import choice"
   ]
  },
  {
   "cell_type": "markdown",
   "id": "1172ad09",
   "metadata": {},
   "source": [
    "Try out forget two times on _Blue_ and observe how the memory updates:"
   ]
  },
  {
   "cell_type": "code",
   "execution_count": 9,
   "id": "c944a28b",
   "metadata": {},
   "outputs": [
    {
     "name": "stdout",
     "output_type": "stream",
     "text": [
      "{'Four Wheels': 10, 'NOT Four Wheels': 2, 'Transports People': 9, 'NOT Transports People': 3, 'Wings': 1, 'NOT Wings': 5, 'Yellow': 1, 'NOT Yellow': 4, 'Blue': 5, 'NOT Blue': 4}\n"
     ]
    }
   ],
   "source": [
    "car_rule.forget('Blue')\n",
    "car_rule.forget('Blue')\n",
    "print(car_rule.memory)"
   ]
  },
  {
   "cell_type": "markdown",
   "id": "a07d6da0",
   "metadata": {},
   "source": [
    "_Blue_ is now either in position 4, 5, or 6 depending on how many times `random()` was equal to or below 0.9."
   ]
  },
  {
   "cell_type": "markdown",
   "id": "0851882c",
   "metadata": {},
   "source": [
    "### Initialization\n",
    "\n",
    "When learning begins the rule starts up with all the literals in memory position 5. That is, the literals are about to be _Memorized_ but currently _Forgotten_."
   ]
  },
  {
   "cell_type": "code",
   "execution_count": 10,
   "id": "f06b5210",
   "metadata": {},
   "outputs": [],
   "source": [
    "car_rule = Memory(0.9, 0.1, {'Four Wheels':5, 'NOT Four Wheels':5, 'Transports People':5, 'NOT Transports People':5, 'Wings':5, 'NOT Wings':5, 'Yellow':5, 'NOT Yellow':5, 'Blue':5, 'NOT Blue':5})"
   ]
  },
  {
   "cell_type": "markdown",
   "id": "93c20e85",
   "metadata": {},
   "source": [
    "### Type I Feedback\n",
    "\n",
    "The `type_i_feedback()` method produces frequent patterns with two learning steps:\n",
    "\n",
    "* Check if the condition part of the rule is _True_ by assessing the object's literals. If the condition part is _True_, then memorize all the literals that are _True_ for the object. You memorize a literal by incrementing its position in memory unless already _Maximally Memorized_ in position 10. The memorization thus pushes the literals deeper into the rule's memory.\n",
    "\n",
    "* Forget all remaining literals by pushing them towards being _Maximally Forgotten_. You forget a literal by decrementing its position in memory unless already _Maximally Forgotten_ in position 1."
   ]
  },
  {
   "cell_type": "code",
   "execution_count": 11,
   "id": "5d2d430e",
   "metadata": {},
   "outputs": [],
   "source": [
    "def type_i_feedback(observation, memory):\n",
    "    remaining_literals = memory.get_literals()\n",
    "    if evaluate_condition(observation, memory.get_condition()) == True:\n",
    "        for feature in observation:\n",
    "            if observation[feature] == True:\n",
    "                memory.memorize(feature)\n",
    "                remaining_literals.remove(feature)\n",
    "            elif observation[feature] == False:\n",
    "                memory.memorize('NOT ' + feature)\n",
    "                remaining_literals.remove('NOT ' + feature)\n",
    "    for literal in remaining_literals:\n",
    "        memory.forget(literal)"
   ]
  },
  {
   "cell_type": "markdown",
   "id": "c198263d",
   "metadata": {},
   "source": [
    "### Example Run\n",
    "\n",
    "The following code randomly selects a car and then updates the rule. This procedure is repeated 100 times."
   ]
  },
  {
   "cell_type": "code",
   "execution_count": 12,
   "id": "b4d1bdcc",
   "metadata": {
    "scrolled": false
   },
   "outputs": [],
   "source": [
    "for i in range(100):\n",
    "    observation_id = choice([0,1,2])\n",
    "    type_i_feedback(cars[observation_id], car_rule)"
   ]
  },
  {
   "cell_type": "markdown",
   "id": "616ffef1",
   "metadata": {},
   "source": [
    "The memory now looks like this:"
   ]
  },
  {
   "cell_type": "code",
   "execution_count": 13,
   "id": "4c1fef82",
   "metadata": {},
   "outputs": [
    {
     "name": "stdout",
     "output_type": "stream",
     "text": [
      "{'Four Wheels': 10, 'NOT Four Wheels': 1, 'Transports People': 10, 'NOT Transports People': 1, 'Wings': 1, 'NOT Wings': 10, 'Yellow': 1, 'NOT Yellow': 2, 'Blue': 1, 'NOT Blue': 1}\n"
     ]
    }
   ],
   "source": [
    "print(car_rule.get_memory())"
   ]
  },
  {
   "cell_type": "markdown",
   "id": "9e0f0b4c",
   "metadata": {},
   "source": [
    "Observe that some of the literals are now either deeply memorized or forgotten. You can print out the resulting rule:"
   ]
  },
  {
   "cell_type": "code",
   "execution_count": 14,
   "id": "f237c005",
   "metadata": {
    "scrolled": true
   },
   "outputs": [
    {
     "name": "stdout",
     "output_type": "stream",
     "text": [
      "IF Four Wheels AND Transports People AND NOT Wings THEN Car\n"
     ]
    }
   ],
   "source": [
    "print(\"IF \" + \" AND \".join(car_rule.get_condition()) + \" THEN Car\")"
   ]
  },
  {
   "cell_type": "markdown",
   "id": "882ac649",
   "metadata": {},
   "source": [
    "## Increasing Discrimination Power withType II Feedback\n",
    "\n",
    "You can use a dataset with planes to make the rule for recognizing cars more discriminative:"
   ]
  },
  {
   "cell_type": "code",
   "execution_count": 15,
   "id": "907eac35",
   "metadata": {},
   "outputs": [],
   "source": [
    "planes = [\n",
    "    {'Four Wheels':True, 'Transports People':True, 'Wings':True, 'Yellow':False, 'Blue':True},\n",
    "    {'Four Wheels':True, 'Transports People':False, 'Wings':True, 'Yellow':True, 'Blue':False},\n",
    "    {'Four Wheels':False, 'Transports People':True, 'Wings':True, 'Yellow':False, 'Blue':True}\n",
    "]"
   ]
  },
  {
   "cell_type": "markdown",
   "id": "0fc678dd",
   "metadata": {},
   "source": [
    "### Type II Feedback\n",
    "\n",
    "The `type_ii_feedback()` method implements the third and final learning step:\n",
    "\n",
    "* Check if the condition part of the rule is _True_ by assessing the object’s literals. If the condition part  is _True_, then  memorize  all _Forgotten_ literals that are _False_ for the object.  Again, you memorize a literal by incrementing its position in memory.  However, this time there is no randomization – the increment is always performed. In effect, the memorization pushes the literals that are in memory position 1 to 5, and at the same time are _False_, towards being _Memorized_."
   ]
  },
  {
   "cell_type": "code",
   "execution_count": 16,
   "id": "ed78b975",
   "metadata": {},
   "outputs": [],
   "source": [
    "def type_ii_feedback(observation, memory):\n",
    "    if evaluate_condition(observation, memory.get_condition()) == True:\n",
    "        for feature in observation:\n",
    "            if observation[feature] == False:\n",
    "                memory.memorize_always(feature)\n",
    "            elif observation[feature] == True:\n",
    "                memory.memorize_always('NOT ' + feature)"
   ]
  },
  {
   "cell_type": "markdown",
   "id": "33ff48f3",
   "metadata": {},
   "source": [
    "### Example Run\n",
    "\n",
    "Let us assume that you start out with the less discriminative rule:"
   ]
  },
  {
   "cell_type": "code",
   "execution_count": 17,
   "id": "2db17de7",
   "metadata": {
    "scrolled": true
   },
   "outputs": [
    {
     "name": "stdout",
     "output_type": "stream",
     "text": [
      "IF Four Wheels AND Transports People THEN Car\n"
     ]
    }
   ],
   "source": [
    "car_rule = Memory(0.9, 0.1, {'Four Wheels': 10, 'NOT Four Wheels': 1, 'Transports People': 10, 'NOT Transports People': 1, 'Wings': 1, 'NOT Wings': 1, 'Yellow': 1, 'NOT Yellow': 1, 'Blue': 1, 'NOT Blue': 1})\n",
    "print(\"IF \" + \" AND \".join(car_rule.get_condition()) + \" THEN Car\")"
   ]
  },
  {
   "cell_type": "markdown",
   "id": "5fc19ba6",
   "metadata": {},
   "source": [
    "The rule correctly matches all of the cars in the _Car_ dataset. However, it also erroneously matches the first object in the _Plane_ dataset:"
   ]
  },
  {
   "cell_type": "code",
   "execution_count": 18,
   "id": "e24f4a2d",
   "metadata": {},
   "outputs": [
    {
     "name": "stdout",
     "output_type": "stream",
     "text": [
      "True\n"
     ]
    }
   ],
   "source": [
    "print(evaluate_condition(planes[0], car_rule.get_condition()))"
   ]
  },
  {
   "cell_type": "markdown",
   "id": "a20c3a7a",
   "metadata": {},
   "source": [
    "A few rounds of Type II Feedback fix this error:"
   ]
  },
  {
   "cell_type": "code",
   "execution_count": 19,
   "id": "cc6e6159",
   "metadata": {
    "scrolled": true
   },
   "outputs": [
    {
     "name": "stdout",
     "output_type": "stream",
     "text": [
      "{'Four Wheels': 10, 'NOT Four Wheels': 6, 'Transports People': 10, 'NOT Transports People': 6, 'Wings': 1, 'NOT Wings': 6, 'Yellow': 6, 'NOT Yellow': 1, 'Blue': 1, 'NOT Blue': 6}\n"
     ]
    }
   ],
   "source": [
    "for i in range(100):\n",
    "    observation_id = choice([0,1,2])\n",
    "    type_ii_feedback(planes[observation_id], car_rule)\n",
    "print(car_rule.get_memory())"
   ]
  },
  {
   "cell_type": "markdown",
   "id": "2e59aba5",
   "metadata": {},
   "source": [
    "Observe how the feedback has pushed several _False_ literals to memory position 6. The rule no longer recognizes the offending plane:"
   ]
  },
  {
   "cell_type": "code",
   "execution_count": 20,
   "id": "05057b50",
   "metadata": {},
   "outputs": [
    {
     "name": "stdout",
     "output_type": "stream",
     "text": [
      "IF Four Wheels AND NOT Four Wheels AND Transports People AND NOT Transports People AND NOT Wings AND Yellow AND NOT Blue THEN Car\n",
      "False\n"
     ]
    }
   ],
   "source": [
    "print(\"IF \" + \" AND \".join(car_rule.get_condition()) + \" THEN Car\")\n",
    "print(evaluate_condition(planes[0], car_rule.get_condition()))"
   ]
  },
  {
   "cell_type": "markdown",
   "id": "07a420d3",
   "metadata": {},
   "source": [
    "Unfortunately, the rule is no longer frequent for cars. To make the rule both discriminative and frequent you mix Type I and Type II Feedback:"
   ]
  },
  {
   "cell_type": "code",
   "execution_count": 21,
   "id": "caa1509e",
   "metadata": {},
   "outputs": [],
   "source": [
    "for i in range(100):\n",
    "    observation_id = choice([0,1,2])\n",
    "    car = choice([0,1])\n",
    "    if car == 1:\n",
    "        type_i_feedback(cars[observation_id], car_rule)\n",
    "    else:\n",
    "        type_ii_feedback(planes[observation_id], car_rule)"
   ]
  },
  {
   "cell_type": "code",
   "execution_count": 22,
   "id": "40981126",
   "metadata": {},
   "outputs": [
    {
     "name": "stdout",
     "output_type": "stream",
     "text": [
      "{'Four Wheels': 8, 'NOT Four Wheels': 1, 'Transports People': 8, 'NOT Transports People': 1, 'Wings': 1, 'NOT Wings': 8, 'Yellow': 1, 'NOT Yellow': 1, 'Blue': 1, 'NOT Blue': 1}\n",
      "IF Four Wheels AND Transports People AND NOT Wings THEN Car\n"
     ]
    }
   ],
   "source": [
    "print(car_rule.get_memory())\n",
    "print(\"IF \" + \" AND \".join(car_rule.get_condition()) + \" THEN Car\")"
   ]
  }
 ],
 "metadata": {
  "kernelspec": {
   "display_name": "Python 3 (ipykernel)",
   "language": "python",
   "name": "python3"
  },
  "language_info": {
   "codemirror_mode": {
    "name": "ipython",
    "version": 3
   },
   "file_extension": ".py",
   "mimetype": "text/x-python",
   "name": "python",
   "nbconvert_exporter": "python",
   "pygments_lexer": "ipython3",
   "version": "3.8.8"
  }
 },
 "nbformat": 4,
 "nbformat_minor": 5
}
