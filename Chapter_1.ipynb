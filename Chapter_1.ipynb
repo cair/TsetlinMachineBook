{
 "cells": [
  {
   "cell_type": "markdown",
   "id": "3ec61780",
   "metadata": {},
   "source": [
    "# Chapter 1\n",
    "\n",
    "## Learning Frequent Patterns with Type I Feedback"
   ]
  },
  {
   "cell_type": "code",
   "execution_count": 1,
   "id": "9ef8d66b",
   "metadata": {},
   "outputs": [],
   "source": [
    "from random import random\n",
    "from random import choice"
   ]
  },
  {
   "cell_type": "markdown",
   "id": "732c9b7b",
   "metadata": {},
   "source": [
    "### Car Dataset"
   ]
  },
  {
   "cell_type": "markdown",
   "id": "41041f6c",
   "metadata": {},
   "source": [
    "The following dataset contains three vehicles of class _Car_. They are characterized by five Boolean features. The first vehicle in the dataset, for instance, has _Four Wheels_, _Transports People_, does not have _Wings_, is _Blue_, but not _Yellow_."
   ]
  },
  {
   "cell_type": "code",
   "execution_count": 2,
   "id": "9bb2d1c8",
   "metadata": {},
   "outputs": [],
   "source": [
    "cars = [\n",
    "    {'Four Wheels':True, 'Transports People':True, 'Wings':False, 'Yellow':False, 'Blue':True},\n",
    "    {'Four Wheels':True, 'Transports People':True, 'Wings':False, 'Yellow':True, 'Blue':False},\n",
    "    {'Four Wheels':True, 'Transports People':True, 'Wings':False, 'Yellow':True, 'Blue':False}\n",
    "]"
   ]
  },
  {
   "cell_type": "markdown",
   "id": "bc5329fb",
   "metadata": {},
   "source": [
    "### Rule Memory"
   ]
  },
  {
   "cell_type": "markdown",
   "id": "2c4034b1",
   "metadata": {},
   "source": [
    "You are now going to learn a single rule. To this end, the rule has its own memory for storing literals. A memory value in the range 1 to 10 measures how deeply the memory stores each literal.\n",
    "\n",
    "* Values 1 to 5 stand for _Forgotten_. Value 1 means maximally forgotten while value 5 means almost memorized. Literals in this range _do not_ take part in the rule's condition.\n",
    "* Values 6 to 10 mean _Memorized_. Value 6 stands for lightly retained, and value 10 represents maximally memorized. Literals in this range take part in the condition of the rule.\n",
    "\n",
    "The rule starts up with all the literals in memory position 5. That is, the literals are about to be _Memorized_ but currently _Forgotten_."
   ]
  },
  {
   "cell_type": "code",
   "execution_count": 3,
   "id": "f06b5210",
   "metadata": {},
   "outputs": [],
   "source": [
    "memory = {'Four Wheels':5, 'NOT Four Wheels':5, 'Transports People':5, 'NOT Transports People':5, 'Wings':5, 'NOT Wings':5, 'Blue':5, 'NOT Blue':5, 'Yellow':5, 'NOT Yellow':5}"
   ]
  },
  {
   "cell_type": "markdown",
   "id": "b44114b1",
   "metadata": {},
   "source": [
    "### Memorization and Forgetting\n",
    "\n",
    "The _memorize value_ 0.1 decides how quickly the rule memorizes literals. Conversely, the _forget value_ 0.9 decides how quickly the rule forgets in the absence of observations."
   ]
  },
  {
   "cell_type": "code",
   "execution_count": 4,
   "id": "83eb4751",
   "metadata": {},
   "outputs": [],
   "source": [
    "memorize_value = 0.1\n",
    "forget_value = 0.9"
   ]
  },
  {
   "cell_type": "markdown",
   "id": "b2c8c189",
   "metadata": {},
   "source": [
    "You memorize a literal by incrementing its position in memory unless already _Maximally Memorized_ in position 10. The memorization thus pushes the literals deeper into the rule's memory. The `memorize()` method implements memorization:"
   ]
  },
  {
   "cell_type": "code",
   "execution_count": 5,
   "id": "d27ab9d2",
   "metadata": {},
   "outputs": [],
   "source": [
    "def memorize(literal):\n",
    "    if random() <= memorize_value and memory[literal] < 10:\n",
    "        memory[literal] += 1"
   ]
  },
  {
   "cell_type": "markdown",
   "id": "f164bee3",
   "metadata": {},
   "source": [
    "You forget a literal by decrementing its position in memory unless already _Maximally Forgotten_ in position 1. The `forget()` method implements forgetting:"
   ]
  },
  {
   "cell_type": "code",
   "execution_count": 6,
   "id": "24f204f9",
   "metadata": {},
   "outputs": [],
   "source": [
    "def forget(literal):\n",
    "    if random() <= forget_value and memory[literal] > 1:\n",
    "        memory[literal] -= 1"
   ]
  },
  {
   "cell_type": "markdown",
   "id": "fd6063ff",
   "metadata": {},
   "source": [
    "The `get_condition()` method implements that literals in memory position 6 to 10 takes part in the condition of the rule."
   ]
  },
  {
   "cell_type": "code",
   "execution_count": 7,
   "id": "729acf8b",
   "metadata": {},
   "outputs": [],
   "source": [
    "def get_condition():\n",
    "    condition = []\n",
    "    for literal in memory:\n",
    "        if memory[literal] >= 6:\n",
    "            condition.append(literal)\n",
    "    return condition"
   ]
  },
  {
   "cell_type": "markdown",
   "id": "2a5969ab",
   "metadata": {},
   "source": [
    "### Creating Patterns with AND and NOT\n",
    "\n",
    "The Tsetlin machine solves pattern recognition problems by building _if-then rules_ from object observations. Each rule has the form:\n",
    "\n",
    "<p><center>$\\mathbf{if~} \\mathit{condition} \\mathbf{~then~}\\mathit{class}.$</center></p>\n",
    "\n",
    "The _condition_ part is a placeholder for a Boolean expression that describes a pattern in the data, to be learnt by the Tsetlin machine. The condition\n",
    "\n",
    "<p><center>$\\mathit{Four~Wheels} \\mathbf{~and~} \\mathit{Transports~People},$</center></p>\n",
    "\n",
    "for instance, characterises the three cars. \n",
    "\n",
    "The `evaluate_condition()` method implements an __and__ of a list of literals."
   ]
  },
  {
   "cell_type": "code",
   "execution_count": 8,
   "id": "22e7c56f",
   "metadata": {},
   "outputs": [],
   "source": [
    "def evaluate_condition(observation, condition):\n",
    "    truth_value_of_condition = True\n",
    "    for feature in observation:\n",
    "        if feature in condition and observation[feature] == False:\n",
    "            truth_value_of_condition = False\n",
    "            break\n",
    "        if 'NOT ' + feature in condition and observation[feature] == True:\n",
    "            truth_value_of_condition = False\n",
    "            break\n",
    "    return truth_value_of_condition"
   ]
  },
  {
   "cell_type": "markdown",
   "id": "93c20e85",
   "metadata": {},
   "source": [
    "### Type I Feedback\n",
    "\n",
    "The `type_i_feedback()` method implements the two learning steps:\n",
    "\n",
    "1. Check if the condition part of the rule is _True_ by assessing the object's literals. If the condition part is _True_, then memorize all the literals that are _True_ for the object. You memorize a literal by incrementing its position in memory unless already _Maximally Memorized_ in position 10. The memorization thus pushes the literals deeper into the rule's memory.\n",
    "\n",
    "2. Forget all remaining literals by pushing them towards being _Maximally Forgotten_. You forget a literal by decrementing its position in memory unless already _Maximally Forgotten_ in position 1."
   ]
  },
  {
   "cell_type": "code",
   "execution_count": 9,
   "id": "5d2d430e",
   "metadata": {},
   "outputs": [],
   "source": [
    "def type_i_feedback(observation):\n",
    "    remaining_literals = list(memory.keys())\n",
    "    if evaluate_condition(observation, get_condition()) == True:\n",
    "        for feature in observation:\n",
    "            if observation[feature] == True:\n",
    "                memorize(feature)\n",
    "                remaining_literals.remove(feature)\n",
    "            elif observation[feature] == False:\n",
    "                memorize('NOT ' + feature)\n",
    "                remaining_literals.remove('NOT ' + feature)\n",
    "    for literal in remaining_literals:\n",
    "        forget(literal)"
   ]
  },
  {
   "cell_type": "markdown",
   "id": "c198263d",
   "metadata": {},
   "source": [
    "### Example Run\n",
    "\n",
    "The following code randomly selects a car and then updates the rule. This procedure is repeated 100 times."
   ]
  },
  {
   "cell_type": "code",
   "execution_count": 10,
   "id": "b4d1bdcc",
   "metadata": {
    "scrolled": false
   },
   "outputs": [],
   "source": [
    "for i in range(100):\n",
    "    observation_id = choice([0,1,2])\n",
    "    type_i_feedback(cars[observation_id])"
   ]
  },
  {
   "cell_type": "markdown",
   "id": "9c397885",
   "metadata": {},
   "source": [
    "The memory now looks like this:"
   ]
  },
  {
   "cell_type": "code",
   "execution_count": 11,
   "id": "f8d2527c",
   "metadata": {},
   "outputs": [
    {
     "name": "stdout",
     "output_type": "stream",
     "text": [
      "{'Four Wheels': 10, 'NOT Four Wheels': 1, 'Transports People': 10, 'NOT Transports People': 1, 'Wings': 1, 'NOT Wings': 10, 'Blue': 1, 'NOT Blue': 1, 'Yellow': 1, 'NOT Yellow': 1}\n"
     ]
    }
   ],
   "source": [
    "print(memory)"
   ]
  },
  {
   "cell_type": "markdown",
   "id": "97c7fe4b",
   "metadata": {},
   "source": [
    "Observe that some of the literals are now either deeply memorized or forgotten. You can print out the resulting rule:"
   ]
  },
  {
   "cell_type": "code",
   "execution_count": 12,
   "id": "54313930",
   "metadata": {},
   "outputs": [
    {
     "name": "stdout",
     "output_type": "stream",
     "text": [
      "IF Four Wheels AND Transports People AND NOT WingsTHEN Car\n"
     ]
    }
   ],
   "source": [
    "print(\"IF \" + \" AND \".join(get_condition()) + \" THEN Car\")"
   ]
  }
 ],
 "metadata": {
  "kernelspec": {
   "display_name": "Python 3 (ipykernel)",
   "language": "python",
   "name": "python3"
  },
  "language_info": {
   "codemirror_mode": {
    "name": "ipython",
    "version": 3
   },
   "file_extension": ".py",
   "mimetype": "text/x-python",
   "name": "python",
   "nbconvert_exporter": "python",
   "pygments_lexer": "ipython3",
   "version": "3.8.8"
  }
 },
 "nbformat": 4,
 "nbformat_minor": 5
}
